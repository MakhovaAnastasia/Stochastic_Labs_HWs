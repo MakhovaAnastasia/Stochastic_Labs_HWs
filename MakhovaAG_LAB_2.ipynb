{
 "cells": [
  {
   "cell_type": "markdown",
   "metadata": {},
   "source": [
    "### Махова Анастасия\n",
    "\n",
    "## Лабораторная работа 2"
   ]
  },
  {
   "cell_type": "markdown",
   "metadata": {},
   "source": [
    "------------"
   ]
  },
  {
   "cell_type": "markdown",
   "metadata": {},
   "source": [
    "### PART 1"
   ]
  },
  {
   "cell_type": "markdown",
   "metadata": {},
   "source": [
    "$(B^d, B^f, S, X)$ -  Black Scholes cross-curency market:\n",
    "* $B^d$ - domestic money market account\n",
    "* $B^f$ - foreign money market account\n",
    "* $S$ - foreign stock\n",
    "* $X$ - rate to exchange one unit of foreign currency into domestic currency.\n",
    "\n",
    "$$dB^d_t  = r^d B^d_t dt$$\n",
    "$$dB^f_t  = r^f B^f_t dt$$\n",
    "$$\\frac{dS_t}{S_t} = \\mu_S dt + \\sigma_S dW_t^S$$\n",
    "$$\\frac{dX_t}{X_t} = \\mu_X dt + \\sigma_X dW_t^X$$\n",
    "$$ d<W^S, W^X>_t = \\rho dt $$\n",
    "\n",
    "a quanto-compo forward contract paying at $T>0$ an amount given by $S_TX_{T-\\tau} - K, \\quad 0<\\tau<T$\n",
    "\n",
    ">Compute the par strike $K$ at $t = 0$"
   ]
  },
  {
   "cell_type": "markdown",
   "metadata": {},
   "source": [
    "---------------"
   ]
  },
  {
   "cell_type": "markdown",
   "metadata": {},
   "source": [
    "$$PV_t^{Quanto} = e^{-r_d(T-t)} \\mathbb{E}_t^{\\mathbb{Q} ^d}(S_TX_{T-\\tau} - K)$$\n",
    "\n",
    "$$PV_0^{Quanto} = 0 = e^{-r_d T} \\mathbb{E}_0^{\\mathbb{Q} ^d}(S_TX_{T-\\tau} - K)$$\n",
    "\n",
    "$$0 = \\mathbb{E}_0^{\\mathbb{Q} ^d}(S_TX_{T-\\tau} - K) \\quad \\Rightarrow \\quad K = \\mathbb{E}_0^{\\mathbb{Q} ^d}(S_TX_{T-\\tau})$$\n",
    "\n",
    "\n",
    "\n",
    "\n"
   ]
  },
  {
   "cell_type": "markdown",
   "metadata": {},
   "source": [
    "$\\tilde B_t^{f} := X_t*B_t^f $ -- foreign money market account in domestic currency\n",
    "$$d\\tilde B_t^{f} = X_tdB_t^f + B_t^fdX_t + dX_tdB_t^f  = X_t r^f B^f_t dt + B_t^f\\mu_X X_t dt + B_t^f\\sigma_X X_tdW_t^X + 0 $$\n",
    "$$d\\tilde B_t^{f} =(r^f+ \\mu_X)X_t  B^f_t  dt +  \\sigma_X X_t B_t^f dW_t^X = (r^f+ \\mu_X)\\tilde B_t^f dt + \\sigma_X \\tilde B_t^f dW_t^X$$\n"
   ]
  },
  {
   "cell_type": "markdown",
   "metadata": {},
   "source": [
    "$\\mathbb{Q} ^d$ -- measure, where $B_t^d$ is the numerare. As $\\tilde W_t$ -- brownian motion under $\\mathbb{Q} ^d$, we have:\n",
    "\n",
    "$$d\\tilde B_t^{f} = r^d\\tilde B_t^f dt + \\sigma_X \\tilde B_t^f d\\tilde W_t^X$$\n",
    "$$ \\frac{dX_t}{X_t} = (r^d-r^f) dt + \\sigma_X d\\tilde W_t^X$$\n",
    "$$ \\frac{dS_t}{S_t} = (r^f - \\rho \\sigma_X \\sigma_S) dt + \\sigma_S d\\tilde W_t^S$$"
   ]
  },
  {
   "cell_type": "markdown",
   "metadata": {},
   "source": [
    "$ Y_t:= S_t X_{t-\\tau}$\n",
    "$$dY_t = S_t dX_{t-\\tau}+ X_{t-\\tau}dS_t + dS_tdX_{t-\\tau} = (r^d-r^f)X_{t-\\tau}S_t d(t-\\tau) + \\sigma_X X_{t-\\tau}S_td\\tilde W_{t-\\tau}^X + (r^f - \\rho \\sigma_X \\sigma_S)X_{t-\\tau} S_t dt + \\sigma_SX_{t-\\tau} S_t d\\tilde W_t^S + 0$$\n",
    "$$dY_t =(r^d - \\rho \\sigma_X \\sigma_S)Y_t dt + \\sigma_X Y_t d\\tilde W_{t-\\tau}^X +  \\sigma_S Y_t d\\tilde W_t^S$$"
   ]
  },
  {
   "cell_type": "markdown",
   "metadata": {},
   "source": [
    "Finally, $\\mathbb{E}_0^{\\mathbb{Q} ^d}(S_TX_{T-\\tau}) = \\mathbb{E}_0^{\\mathbb{Q} ^d}(Y_T) = Y_0 e^{(r^d - \\rho \\sigma_X \\sigma_S)T}$\n",
    "\n",
    "Suppose, we know the historical data, so $S_0$ and $X_{-\\tau}$ are defined.\n",
    "\n",
    "___Answer:___ $K = S_0X_{-\\tau} e^{(r^d - \\rho \\sigma_X \\sigma_S)T}$"
   ]
  },
  {
   "cell_type": "markdown",
   "metadata": {},
   "source": [
    "----"
   ]
  },
  {
   "cell_type": "markdown",
   "metadata": {},
   "source": [
    "### PART 2"
   ]
  },
  {
   "cell_type": "code",
   "execution_count": 21,
   "metadata": {},
   "outputs": [],
   "source": [
    "import numpy as np\n",
    "from scipy.interpolate import interp1d\n",
    "from scipy.optimize import newton, brentq\n",
    "import math\n",
    "import pandas as pd\n",
    "\n",
    "from datetime import datetime, timedelta\n",
    "\n",
    "import matplotlib.pyplot as plt\n",
    "plt.style.use('https://github.com/dhaitz/matplotlib-stylesheets/raw/master/pitayasmoothie-light.mplstyle')"
   ]
  },
  {
   "cell_type": "code",
   "execution_count": 22,
   "metadata": {},
   "outputs": [],
   "source": [
    "from pandas.tseries.offsets import BDay\n",
    "from pandas.tseries.holiday import USFederalHolidayCalendar"
   ]
  },
  {
   "cell_type": "markdown",
   "metadata": {},
   "source": [
    "#### 1. Build SOFR curve using OIS market quotes"
   ]
  },
  {
   "cell_type": "markdown",
   "metadata": {},
   "source": [
    "OIS specifications:\n",
    "* Compounded SOFR vs Fix\n",
    "* Single period swaps for maturities <= 1Y. Annual payment frequency for long maturities (>1Y) \n",
    "* Day Count Convention = Act360\n",
    "* Calendar = NewYork (US calendar)\n",
    "* Swap start date = value date (t=0) + 2 NY business days, Period end date = period start date + period length (frequency)\n",
    "* Rolling convention = Following (if period end date is a holiday then move to the next business day)\n",
    "* Payment lag = 2bd in NY calendar (so payment date = period end date + 2bd)\n",
    "\n",
    "Interpolation:\n",
    "* Linear interpolation on log DF\n",
    "\n",
    "Value date:  31.01.22\n",
    "\n"
   ]
  },
  {
   "cell_type": "code",
   "execution_count": 23,
   "metadata": {},
   "outputs": [],
   "source": [
    "OIS_code = [\"SOFR_1M\", \"SOFR_2M\", \"SOFR_3M\", \"SOFR_4M\", \"SOFR_5M\", \"SOFR_6M\", \"SOFR_7M\", \"SOFR_8M\", \"SOFR_9M\", \n",
    "       \"SOFR_10M\", \"SOFR_11M\", \"SOFR_1Y\", \"SOFR_2Y\", \"SOFR_3Y\", \"SOFR_4Y\", \"SOFR_5Y\", \"SOFR_6Y\", \"SOFR_7Y\", \n",
    "       \"SOFR_8Y\", \"SOFR_9Y\", \"SOFR_10Y\", \"SOFR_12Y\", \"SOFR_15Y\", \"SOFR_20Y\", \"SOFR_25Y\", \"SOFR_30Y\"]\n",
    "Quote = np.array([0.0240, 0.1070, 0.2030, 0.2860, 0.3690, 0.4330, 0.4930, 0.5580, 0.6120, 0.6630, 0.7190, 0.7650, 1.1690, \n",
    "          1.3380, 1.4170, 1.4680, 1.5070, 1.5390, 1.5640, 1.5830, 1.6040, 1.6450, 1.6860, 1.7140, 1.6950, 1.6640])/100\n",
    "\n",
    "value_date = datetime(2022, 1, 31)"
   ]
  },
  {
   "cell_type": "markdown",
   "metadata": {},
   "source": [
    "* $DF_{SOFR}(0, T) = P_d(0, T)$ - we have to find it\n",
    "* $R(t, T)$ - compounded rate\n",
    "* $F(0, T_{i-1}, T_i) = \\frac{1}{\\tau_i}\\left[\\frac{P_d(0, T_{i-1})}{P_d(0, T_i)} - 1\\right]$\n",
    "* $\\tau_i = T_i - T_{i-1}$\n",
    "* $\\tau = 2$ bd\n",
    "\n",
    "\n",
    "$$\\text{PV}_t^{\\text{Swap}} = \\sum_{i=1}^n P_d(t, T_i+\\tau) \\cdot \\mathbb{E}_t^{(T_i+\\tau)^d} \\left[ \\left( R(T_{i-1}, T_i) - K \\right) \\tau_i \\right] \\\\\n",
    "\\approx \\sum_{i=1}^n P_d(t, T_i + \\tau) \\cdot \\mathbb{E}_t^{(T_i)^d} \\left[ \\left( R(T_{i-1}, T_i) - K \\right) \\tau_i \\right] \\\\ = \\underbrace{\\sum_{i=1}^n P_d(t, T_i + \\tau) F(t, T_{i-1}, T_i) \\tau_i}_{\\text{Floating leg value}} - \\underbrace{\\sum_{i=1}^n P_d(t, T_i) K \\tau_i}_{\\text{Fixed leg value}}.\n",
    "$$\n",
    "\n",
    "As $\\text{PV}_0^{\\text{Swap}} = 0$, we have:\n",
    "\n",
    "$$\\underbrace{\\sum_{i=1}^n P_d(0, T_i+ \\tau) F(0, T_{i-1}, T_i) \\tau_i}_{\\text{Floating leg value}} - \\underbrace{\\sum_{i=1}^n P_d(0, {T_i}) K {\\tau_i}}_{\\text{Fixed leg value}} = 0.\n",
    "$$\n",
    "\n",
    "$$\n",
    "\\sum_{i=1}^{N} P_d(0, T_i + \\tau) \\left[\\frac{P_d(0, T_{i-1})}{P_d(0, T_i)} - 1\\right]  = \\sum_{i=1}^{M} P_d(0, {T_i} + \\tau) K {\\tau_i}.\n",
    "$$"
   ]
  },
  {
   "cell_type": "code",
   "execution_count": 24,
   "metadata": {},
   "outputs": [],
   "source": [
    "# Calendar setup\n",
    "def setup_calendar():\n",
    "    calendar = USFederalHolidayCalendar()\n",
    "    holidays = calendar.holidays(start=\"2022-01-01\", end=\"2052-01-01\")\n",
    "    return holidays"
   ]
  },
  {
   "cell_type": "code",
   "execution_count": 25,
   "metadata": {},
   "outputs": [],
   "source": [
    "# Compute adjusted start date\n",
    "def get_adjusted_start_date(value_date, business_days):\n",
    "    return value_date + BDay(business_days)"
   ]
  },
  {
   "cell_type": "code",
   "execution_count": 26,
   "metadata": {},
   "outputs": [],
   "source": [
    "# Compute year fraction\n",
    "def year_fraction(start_date, end_date):\n",
    "    return (end_date - start_date).days / 360.0"
   ]
  },
  {
   "cell_type": "code",
   "execution_count": 27,
   "metadata": {},
   "outputs": [],
   "source": [
    "# Rolling convention (Following)\n",
    "def adjust_date(date, holidays):\n",
    "    while date in holidays or date.weekday() >= 5:  # Holiday or weekend\n",
    "        date += timedelta(days=1)\n",
    "    return date"
   ]
  },
  {
   "cell_type": "code",
   "execution_count": 28,
   "metadata": {},
   "outputs": [],
   "source": [
    "# Generate maturities\n",
    "def generate_maturities(value_date, OIS_code, holidays):\n",
    "    \n",
    "    start_date = get_adjusted_start_date(value_date, 2)\n",
    "    maturities = [start_date]\n",
    "    for code in OIS_code:\n",
    "        if \"M\" in code:  # Monthly maturities\n",
    "            months = int(code.split(\"_\")[1][:-1])\n",
    "            end_date = adjust_date(value_date + pd.DateOffset(months=months), holidays)\n",
    "        elif \"Y\" in code:  # Yearly maturities\n",
    "            years = int(code.split(\"_\")[1][:-1])\n",
    "            end_date = adjust_date(value_date + pd.DateOffset(years=years), holidays)\n",
    "        else:\n",
    "            raise ValueError(f\"Unsupported OIS code format: {code}\")\n",
    "        maturities.append(end_date)\n",
    "    return maturities"
   ]
  },
  {
   "cell_type": "code",
   "execution_count": 29,
   "metadata": {},
   "outputs": [],
   "source": [
    "# Compute discount factors P_d(0, T) with correct maturities\n",
    "def compute_discount_factors(value_date, maturities, Quote):\n",
    "    P_d = np.ones_like(Quote)\n",
    "    yf = np.zeros_like(Quote)\n",
    "    for i in range(1, len(Quote)):\n",
    "        tau = year_fraction(maturities[0], maturities[i])\n",
    "        yf[i] = tau\n",
    "        \n",
    "        K = Quote[i-1]\n",
    "        P_d_prev = P_d[i-1]\n",
    "        tau_i = yf[i] - yf[i-1]\n",
    "        P_d[i] = P_d_prev / (1 + K*tau_i)\n",
    "    return yf, P_d\n"
   ]
  },
  {
   "cell_type": "code",
   "execution_count": 30,
   "metadata": {},
   "outputs": [],
   "source": [
    "# Log-linear interpolation of discount factors\n",
    "def log_linear_interpolation(start, end, DF, maturities):\n",
    "    interp_times = np.linspace(start, end, 500)\n",
    "    log_DF = np.log(DF)\n",
    "    interp_log_DF = np.interp(interp_times, maturities, log_DF)\n",
    "    interp_DF = np.exp(interp_log_DF)\n",
    "    return interp_times, interp_DF"
   ]
  },
  {
   "cell_type": "code",
   "execution_count": 31,
   "metadata": {},
   "outputs": [],
   "source": [
    "# Plotting the curve\n",
    "def plot_curve(T, P_d, interp_times, interp_P_d):\n",
    "    plt.figure(figsize=(10, 6))\n",
    "    plt.plot(T, P_d, 'o', label=\"Computed Points (Market Maturities)\")\n",
    "    plt.plot(interp_times, interp_P_d, label=\"Interpolated Curve\")\n",
    "    plt.title(\"SOFR Discount Curve\")\n",
    "    plt.xlabel(\"Maturity (Years)\")\n",
    "    plt.ylabel(\"Discount Factor $P_d(0, T)$\")\n",
    "    plt.legend()\n",
    "    plt.grid()\n",
    "    plt.show()"
   ]
  },
  {
   "cell_type": "code",
   "execution_count": 32,
   "metadata": {},
   "outputs": [],
   "source": [
    "# Main workflow\n",
    "def build_sofr_curve(value_date, OIS_code, Quote):\n",
    "    # Step 1: Setup\n",
    "    holidays = setup_calendar()\n",
    "    \n",
    "    # Step 2: Generate maturities\n",
    "    maturities = generate_maturities(value_date, OIS_code, holidays)\n",
    "    \n",
    "    # Step 3: Compute discount factors\n",
    "    yf, P_d = compute_discount_factors(value_date, maturities, Quote)\n",
    "    \n",
    "    # Step 4: Interpolation\n",
    "    interp_times, interp_P_d = log_linear_interpolation(0, yf[-1], P_d, yf)\n",
    "    \n",
    "    # Step 5: Plotting\n",
    "    plot_curve(yf, P_d, interp_times, interp_P_d)\n",
    "\n"
   ]
  },
  {
   "cell_type": "code",
   "execution_count": 33,
   "metadata": {},
   "outputs": [
    {
     "data": {
      "image/png": "[encoded data removed]",
      "text/plain": [
       "<Figure size 1000x600 with 1 Axes>"
      ]
     },
     "metadata": {},
     "output_type": "display_data"
    }
   ],
   "source": [
    "build_sofr_curve(value_date, OIS_code, Quote)"
   ]
  },
  {
   "cell_type": "markdown",
   "metadata": {},
   "source": [
    "----"
   ]
  },
  {
   "cell_type": "markdown",
   "metadata": {},
   "source": [
    "#### 2. Build 3M LIBOR curve using SOFR as discounting curve\n",
    "Specifications:\n",
    "* Start date = value date (t=0) + 2 bd\n",
    "* Rolling = Following\n",
    "* PaymentLag = 0D\n",
    "* Day Count Convention = Act360\n",
    "* Calendar = NewYork (US calendar)\n",
    "* Discounting rate = SOFR\n",
    "\n",
    "_IRS_ specifications:\n",
    "* Quarterly floating payment (3M LIBOR) vs annual fix payment\n",
    "\n",
    "Interpolation:\n",
    "* Linear interpolation on log DF\n",
    "\n",
    "Value date:  31.01.22\n"
   ]
  },
  {
   "cell_type": "code",
   "execution_count": 34,
   "metadata": {},
   "outputs": [],
   "source": [
    "Instrument_code = ['USD_3M_LIBOR', 'USD_3M_LIBOR_3x6', 'USD_3M_LIBOR_6x9', 'USD_1Y_3M_LIBOR_1Y_FIX', 'USD_2Y_3M_LIBOR_1Y_FIX', 'USD_3Y_3M_LIBOR_1Y_FIX', 'USD_4Y_3M_LIBOR_1Y_FIX', 'USD_5Y_3M_LIBOR_1Y_FIX', \n",
    "               'USD_6Y_3M_LIBOR_1Y_FIX', 'USD_7Y_3M_LIBOR_1Y_FIX', 'USD_8Y_3M_LIBOR_1Y_FIX', 'USD_9Y_3M_LIBOR_1Y_FIX', 'USD_10Y_3M_LIBOR_1Y_FIX',\n",
    "               'USD_12Y_3M_LIBOR_1Y_FIX', 'USD_15Y_3M_LIBOR_1Y_FIX', 'USD_20Y_3M_LIBOR_1Y_FIX', 'USD_25Y_3M_LIBOR_1Y_FIX', 'USD_30Y_3M_LIBOR_1Y_FIX']\n",
    "LIBORQuote = np.array([0.3, 0.75, 1.1, 0.90, 1.33, 1.53, 1.63, 1.69, 1.73, 1.77, 1.80, 1.82, 1.84, 1.89, 1.93, 1.96, 1.95, 1.92])/100."
   ]
  },
  {
   "cell_type": "markdown",
   "metadata": {},
   "source": [
    "Deposit:\n",
    "\n",
    "$$P_{d,LIBOR}(0, 3M) = \\frac{1}{1 + 0.25 L(0, 3M)}$$ "
   ]
  },
  {
   "cell_type": "markdown",
   "metadata": {},
   "source": [
    "FRA:\n",
    "from the lectures: $$PV_0^{FRA} = 0 \\quad \\Leftrightarrow \\quad K = F(t, T, T+\\tau)  = \\frac{1}{\\tau} (\\frac{P_d(t, T)}{P(t, T+\\tau) - 1})$$"
   ]
  },
  {
   "cell_type": "markdown",
   "metadata": {},
   "source": [
    "IRS: \n",
    "$$\n",
    "\\sum_{i=1}^{N} P_d(0, T_i) \\left[\\frac{P_d(0, T_{i-1})}{P_d(0, T_i)} - 1\\right]  = \\sum_{i=1}^{M} P_d(0, {\\tilde T_i}) K {\\tilde \n",
    "\\tau_i}.\n",
    "$$\n",
    "\n",
    "$\\tilde T_i$ and $\\tilde \\tau_i$ are differ from $T_i, \\tau_i$, as fix payments are annual and floating are not"
   ]
  },
  {
   "cell_type": "code",
   "execution_count": 35,
   "metadata": {},
   "outputs": [],
   "source": [
    "# Generate 3M LIBOR maturities\n",
    "def generate_LIBOR3_maturities(value_date, Instrument_code, holidays):\n",
    "    \n",
    "    start_date = get_adjusted_start_date(value_date, 0)\n",
    "    maturities = [start_date]\n",
    "    for code in Instrument_code:\n",
    "        if \"3M_LIBOR\" in code:\n",
    "            if \"x\" in code:  # Example: 'USD_3M_LIBOR_3x6'\n",
    "                months_end =  int(code[-1])\n",
    "                end_date = adjust_date(start_date + pd.DateOffset(months=months_end), holidays)\n",
    "            elif \"Y\" in code:  # Example: 'USD_2Y_3M_LIBOR_1Y_FIX'\n",
    "                years = int(code.split(\"_\")[1][:-1])\n",
    "                end_date = adjust_date(start_date + pd.DateOffset(years=years), holidays)\n",
    "            else:  # Default 3M LIBOR\n",
    "                end_date = adjust_date(start_date + pd.DateOffset(months=3), holidays)\n",
    "        else:\n",
    "            raise ValueError(f\"Unsupported LIBOR code format: {code}\")\n",
    "        \n",
    "        maturities.append(end_date)\n",
    "    return maturities"
   ]
  },
  {
   "cell_type": "code",
   "execution_count": 36,
   "metadata": {},
   "outputs": [],
   "source": [
    "# Compute discount factors for 3M LIBOR\n",
    "def compute_LIBOR3_discount_factors(LIBORQuote, maturities):\n",
    "    P_d_libor = np.ones_like(LIBORQuote)\n",
    "    yf_libor = np.zeros_like(LIBORQuote)\n",
    "    \n",
    "    # Deposit\n",
    "    yf_libor[1] = year_fraction(maturities[0], maturities[1])\n",
    "    P_d_libor[1] = 1/(1+ 0.25*LIBORQuote[0])\n",
    "\n",
    "    #FRA\n",
    "    #3x6\n",
    "    yf_libor[2] = year_fraction(maturities[0], maturities[2])\n",
    "    tau_2 = yf_libor[2] - yf_libor[1]\n",
    "    P_d_libor[2] = P_d_libor[1]/(LIBORQuote[1]*tau_2) +1\n",
    "\n",
    "    #6x9\n",
    "    yf_libor[3] = year_fraction(maturities[0], maturities[3])\n",
    "    tau_3 = yf_libor[3] - yf_libor[2]\n",
    "    P_d_libor[3] = P_d_libor[2]/(LIBORQuote[2]*tau_3) +1\n",
    "\n",
    "    \n",
    "    #IRS\n",
    "    for i in range(4, len(LIBORQuote)):\n",
    "        tau = year_fraction(maturities[0], maturities[i])\n",
    "        yf_libor[i] = tau\n",
    "        \n",
    "        K = LIBORQuote[i-1]\n",
    "        P_prev = P_d_libor[i - 1]\n",
    "        tau_i = yf_libor[i] - yf_libor[i-1]\n",
    "        P_d_libor[i] = P_prev / (1 + K * tau_i)\n",
    "    \n",
    "    return yf_libor, P_d_libor"
   ]
  },
  {
   "cell_type": "code",
   "execution_count": 37,
   "metadata": {},
   "outputs": [],
   "source": [
    "# Plot the LIBOR curve\n",
    "def plot_LIBOR3_curve(yf_3, P_d_3, interp_times_libor, interp_P_libor):\n",
    "    plt.figure(figsize=(10, 6))\n",
    "    plt.plot(yf_3, P_d_3, 'o', label=\"Computed Points (Market Maturities)\")\n",
    "    plt.plot(interp_times_libor, interp_P_libor, label=\"Interpolated Curve\")\n",
    "    plt.title(\"3M LIBOR Discount Curve\")\n",
    "    plt.xlabel(\"Maturity (Years)\")\n",
    "    plt.ylabel(\"Discount Factor $P_d(0, T)$\")\n",
    "    plt.legend()\n",
    "    plt.grid()\n",
    "    plt.show()"
   ]
  },
  {
   "cell_type": "code",
   "execution_count": 38,
   "metadata": {},
   "outputs": [],
   "source": [
    "def build_3M_LIBOR_curve(value_date, Instrument_code, LIBORQuote):\n",
    "    # Step 1: Setup\n",
    "    holidays = setup_calendar()\n",
    "    \n",
    "    # Step 2: Generate maturities\n",
    "    libor3_maturities = generate_LIBOR3_maturities(value_date, Instrument_code, holidays)\n",
    "    \n",
    "    # Step 3: Compute discount factors\n",
    "    yf_3, P_d_3 = compute_LIBOR3_discount_factors(LIBORQuote, libor3_maturities)\n",
    "    \n",
    "    # Step 4: Interpolation\n",
    "    interp_times_libor, interp_P_libor = log_linear_interpolation(0, yf_3[-1], P_d_3, yf_3)\n",
    "    \n",
    "    # Step 5: Plotting\n",
    "    plot_LIBOR3_curve(yf_3, P_d_3, interp_times_libor, interp_P_libor)\n"
   ]
  },
  {
   "cell_type": "code",
   "execution_count": 39,
   "metadata": {},
   "outputs": [
    {
     "data": {
      "image/png": "[encoded data removed]",
      "text/plain": [
       "<Figure size 1000x600 with 1 Axes>"
      ]
     },
     "metadata": {},
     "output_type": "display_data"
    }
   ],
   "source": [
    "build_3M_LIBOR_curve(value_date, Instrument_code, LIBORQuote)"
   ]
  },
  {
   "cell_type": "markdown",
   "metadata": {},
   "source": []
  },
  {
   "cell_type": "markdown",
   "metadata": {},
   "source": [
    "----"
   ]
  },
  {
   "cell_type": "markdown",
   "metadata": {},
   "source": [
    "#### 3. Using SOFR and 3M LIBOR curves, build 6M LIBOR curve"
   ]
  },
  {
   "cell_type": "markdown",
   "metadata": {},
   "source": [
    "Specifications:\n",
    "* Start date = value date (t=0) + 2 bd\n",
    "* Rolling = Following \n",
    "* PaymentLag = 0D\n",
    "* Day Count Convention = Act360\n",
    "* Calendar = NewYork (US calendar)\n",
    "* Discounting rate = SOFR\n",
    "\n",
    "_Basis swaps_ specifications:\n",
    "* Quarterly payment (3M LIBOR + spread) vs semi-annual payment (6M LIBOR)\n",
    "* Spread is given in basis points\n",
    "\n",
    "Interpolation:\n",
    "* Linear interpolation on log DF\n",
    "\n",
    "Value date:  31.01.22\n",
    "\n"
   ]
  },
  {
   "cell_type": "code",
   "execution_count": 40,
   "metadata": {},
   "outputs": [],
   "source": [
    "Instrument_code = ['USD_6M_LIBOR', 'USD_1Y_3M_LIBOR_Plus_Spread_6M_LIBOR', 'USD_18M_3M_LIBOR_Plus_Spread_6M_LIBOR', \n",
    "              'USD_2Y_3M_LIBOR_Plus_Spread_6M_LIBOR', 'USD_3Y_3M_LIBOR_Plus_Spread_6M_LIBOR', 'USD_4Y_3M_LIBOR_Plus_Spread_6M_LIBOR',\n",
    "              'USD_5Y_3M_LIBOR_Plus_Spread_6M_LIBOR', 'USD_6Y_3M_LIBOR_Plus_Spread_6M_LIBOR', 'USD_7Y_3M_LIBOR_Plus_Spread_6M_LIBOR',\n",
    "              'USD_8Y_3M_LIBOR_Plus_Spread_6M_LIBOR','USD_9Y_3M_LIBOR_Plus_Spread_6M_LIBOR', 'USD_10Y_3M_LIBOR_Plus_Spread_6M_LIBOR', \n",
    "              'USD_12Y_3M_LIBOR_Plus_Spread_6M_LIBOR','USD_15Y_3M_LIBOR_Plus_Spread_6M_LIBOR', 'USD_20Y_3M_LIBOR_Plus_Spread_6M_LIBOR', \n",
    "              'USD_25Y_3M_LIBOR_Plus_Spread_6M_LIBOR','USD_30Y_3M_LIBOR_Plus_Spread_6M_LIBOR']\n",
    "Quote = [0,5500, 3.0000, 4.0000, 6.0000, 10.0000, 11.0000, 12.0000, 13.0000, 14.0000, 14.5000, 15.0000, 15.2500, 15.5000, 15.7500, 16.0000, 16.2500, 16.5000]"
   ]
  }
 ],
 "metadata": {
  "kernelspec": {
   "display_name": "Python 3",
   "language": "python",
   "name": "python3"
  },
  "language_info": {
   "codemirror_mode": {
    "name": "ipython",
    "version": 3
   },
   "file_extension": ".py",
   "mimetype": "text/x-python",
   "name": "python",
   "nbconvert_exporter": "python",
   "pygments_lexer": "ipython3",
   "version": "3.13.0"
  }
 },
 "nbformat": 4,
 "nbformat_minor": 2
}
