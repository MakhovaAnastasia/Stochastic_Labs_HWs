{
 "cells": [
  {
   "cell_type": "markdown",
   "metadata": {},
   "source": [
    "#### *Applied Mathematical Finance 2*"
   ]
  },
  {
   "cell_type": "markdown",
   "metadata": {},
   "source": [
    "#### *Makhova Anastasia*"
   ]
  },
  {
   "cell_type": "markdown",
   "metadata": {},
   "source": [
    "## <ins> *Lab 3: Vanilla commodities* </ins>"
   ]
  },
  {
   "cell_type": "markdown",
   "metadata": {},
   "source": [
    "The deadline is 23:59 on 25th of May, 2025. The solution must be sent up to the deadline on amf2-2025-spring@yandex.ru.\n"
   ]
  },
  {
   "cell_type": "code",
   "execution_count": 1,
   "metadata": {},
   "outputs": [],
   "source": [
    "import numpy as np \n",
    "import pandas as pd\n",
    "import matplotlib.pyplot as plt\n",
    "plt.style.use('https://github.com/dhaitz/matplotlib-stylesheets/raw/master/pitayasmoothie-light.mplstyle')"
   ]
  },
  {
   "cell_type": "markdown",
   "metadata": {},
   "source": [
    "### 1. Composite coal swap (50 points)"
   ]
  },
  {
   "cell_type": "markdown",
   "metadata": {},
   "source": [
    "You are given a composite coal swap with\n",
    "\n",
    "* 12 observation dates $t_i$ equal to the last Friday of each calendar month of the year 2023.\n",
    "\n",
    "* $S$ corresponding to weekly coal fixing.\n",
    "\n",
    "* $X$ equal to the USDRUB fixing. \n",
    "\n",
    "* Payoff at $t_{12}$ is \n",
    "\n",
    "$$\\frac{1}{12} \\sum_{i=1}^{12} S_{t_i} X_{t_i + l} - K,$$\n",
    "\n",
    "with $l=-2$ weeks being the FX fixing lag and $K$ the strike of the swap contract. \n"
   ]
  },
  {
   "cell_type": "markdown",
   "metadata": {},
   "source": [
    "Also assume that \n",
    "\n",
    "* The value date $t_0$ is `03/01/2023`;\n",
    "\n",
    "* The continuously-compounded foreign-domestic rates difference $r_{\\text{USD}} - r_{\\text{RUB}} = 10\\%$;\n",
    "\n",
    "* The USDRUB spot and volatility equal to $100$ and $40\\%$;\n",
    "\n",
    "* The coal volatility is $50\\%$ and the Coal/FX correlation is $-80\\%$;\n",
    "\n",
    "* The coal monthly average futures quotes (denominated in USD currency) are given in `lab3.csv`."
   ]
  },
  {
   "cell_type": "code",
   "execution_count": 2,
   "metadata": {},
   "outputs": [],
   "source": [
    "from datetime import datetime\n",
    "\n",
    "t0 = datetime.strptime(\"03/01/2023\", \"%d/%m/%Y\")"
   ]
  },
  {
   "cell_type": "code",
   "execution_count": 3,
   "metadata": {},
   "outputs": [],
   "source": [
    "rate_diff = 0.1\n",
    "FX_spot = 100\n",
    "sigma_S = 0.5\n",
    "sigma_X = 0.4\n",
    "rho = -0.8"
   ]
  },
  {
   "cell_type": "code",
   "execution_count": 4,
   "metadata": {},
   "outputs": [],
   "source": [
    "df = pd.read_csv(\"lab3.csv\", sep=\";\")\n",
    "\n",
    "df[\"Price\"] = df[\"Price\"].str.replace(\",\", \".\").astype(float)\n",
    "F = df[\"Price\"].values \n",
    "\n",
    "# Переведем строки в даты\n",
    "df[\"Expiry\"] = pd.to_datetime(df[\"Futures Expiry Date\"], format=\"%d/%m/%Y\")"
   ]
  },
  {
   "cell_type": "markdown",
   "metadata": {
    "vscode": {
     "languageId": "powershell"
    }
   },
   "source": [
    "Finally, assume that the day count convention is `Act365`. "
   ]
  },
  {
   "cell_type": "code",
   "execution_count": 5,
   "metadata": {},
   "outputs": [],
   "source": [
    "df[\"tau\"] = (df[\"Expiry\"] - t0).dt.days / 365\n",
    "tau_array = df[\"tau\"].values\n"
   ]
  },
  {
   "cell_type": "code",
   "execution_count": 6,
   "metadata": {},
   "outputs": [
    {
     "data": {
      "text/html": [
       "<div>\n",
       "<style scoped>\n",
       "    .dataframe tbody tr th:only-of-type {\n",
       "        vertical-align: middle;\n",
       "    }\n",
       "\n",
       "    .dataframe tbody tr th {\n",
       "        vertical-align: top;\n",
       "    }\n",
       "\n",
       "    .dataframe thead th {\n",
       "        text-align: right;\n",
       "    }\n",
       "</style>\n",
       "<table border=\"1\" class=\"dataframe\">\n",
       "  <thead>\n",
       "    <tr style=\"text-align: right;\">\n",
       "      <th></th>\n",
       "      <th>Unnamed: 0</th>\n",
       "      <th>Futures Expiry Date</th>\n",
       "      <th>Price</th>\n",
       "      <th>Expiry</th>\n",
       "      <th>tau</th>\n",
       "    </tr>\n",
       "  </thead>\n",
       "  <tbody>\n",
       "    <tr>\n",
       "      <th>0</th>\n",
       "      <td>1</td>\n",
       "      <td>27/1/2023</td>\n",
       "      <td>230.00</td>\n",
       "      <td>2023-01-27</td>\n",
       "      <td>0.065753</td>\n",
       "    </tr>\n",
       "    <tr>\n",
       "      <th>1</th>\n",
       "      <td>2</td>\n",
       "      <td>24/2/2023</td>\n",
       "      <td>206.00</td>\n",
       "      <td>2023-02-24</td>\n",
       "      <td>0.142466</td>\n",
       "    </tr>\n",
       "    <tr>\n",
       "      <th>2</th>\n",
       "      <td>3</td>\n",
       "      <td>31/3/2023</td>\n",
       "      <td>194.90</td>\n",
       "      <td>2023-03-31</td>\n",
       "      <td>0.238356</td>\n",
       "    </tr>\n",
       "    <tr>\n",
       "      <th>3</th>\n",
       "      <td>4</td>\n",
       "      <td>28/4/2023</td>\n",
       "      <td>185.75</td>\n",
       "      <td>2023-04-28</td>\n",
       "      <td>0.315068</td>\n",
       "    </tr>\n",
       "    <tr>\n",
       "      <th>4</th>\n",
       "      <td>5</td>\n",
       "      <td>26/5/2023</td>\n",
       "      <td>174.50</td>\n",
       "      <td>2023-05-26</td>\n",
       "      <td>0.391781</td>\n",
       "    </tr>\n",
       "  </tbody>\n",
       "</table>\n",
       "</div>"
      ],
      "text/plain": [
       "   Unnamed: 0 Futures Expiry Date   Price     Expiry       tau\n",
       "0           1           27/1/2023  230.00 2023-01-27  0.065753\n",
       "1           2           24/2/2023  206.00 2023-02-24  0.142466\n",
       "2           3           31/3/2023  194.90 2023-03-31  0.238356\n",
       "3           4           28/4/2023  185.75 2023-04-28  0.315068\n",
       "4           5           26/5/2023  174.50 2023-05-26  0.391781"
      ]
     },
     "execution_count": 6,
     "metadata": {},
     "output_type": "execute_result"
    }
   ],
   "source": [
    "df.head()"
   ]
  },
  {
   "cell_type": "markdown",
   "metadata": {},
   "source": [
    "#### 1.1 Curve stripping (25 points)"
   ]
  },
  {
   "cell_type": "markdown",
   "metadata": {},
   "source": [
    "Build weekly-observable forward curve. "
   ]
  },
  {
   "cell_type": "code",
   "execution_count": 7,
   "metadata": {},
   "outputs": [
    {
     "data": {
      "text/plain": [
       "array([4, 4, 5, 4, 4, 5, 4, 4, 5, 4, 4, 5])"
      ]
     },
     "execution_count": 7,
     "metadata": {},
     "output_type": "execute_result"
    }
   ],
   "source": [
    "# список всех пятниц в 2023\n",
    "all_fridays = pd.date_range(\"2023-01-01\", \"2023-12-31\", freq=\"W-FRI\")\n",
    "n = []\n",
    "\n",
    "for month in range(1, 13):\n",
    "    fridays_in_month = all_fridays[all_fridays.month == month]\n",
    "    n.append(len(fridays_in_month))\n",
    "\n",
    "n = np.array(n)\n",
    "n"
   ]
  },
  {
   "cell_type": "code",
   "execution_count": 8,
   "metadata": {},
   "outputs": [],
   "source": [
    "N_node = np.zeros(13)\n",
    "for i in range(1, 13):\n",
    "    N_node[i] = N_node[i-1] + n[i-1]"
   ]
  },
  {
   "cell_type": "code",
   "execution_count": 9,
   "metadata": {},
   "outputs": [],
   "source": [
    "summation_curve_node = np.zeros(13)\n",
    "for i in range(1, 13):\n",
    "    summation_curve_node[i] = summation_curve_node[i-1] + F[i-1] * n[i-1]"
   ]
  },
  {
   "cell_type": "code",
   "execution_count": 10,
   "metadata": {},
   "outputs": [],
   "source": [
    "from scipy.interpolate import PchipInterpolator"
   ]
  },
  {
   "cell_type": "code",
   "execution_count": 11,
   "metadata": {},
   "outputs": [],
   "source": [
    "f_t = np.zeros(52)\n",
    "N = np.arange(1,53)\n",
    "for i in range(1,53):\n",
    "  f_t[i-1] = PchipInterpolator(N_node, summation_curve_node)(i) - PchipInterpolator(N_node, summation_curve_node)(i-1)"
   ]
  },
  {
   "cell_type": "code",
   "execution_count": 12,
   "metadata": {},
   "outputs": [
    {
     "data": {
      "image/png": "[encoded data removed]",
      "text/plain": [
       "<Figure size 1000x500 with 1 Axes>"
      ]
     },
     "metadata": {},
     "output_type": "display_data"
    }
   ],
   "source": [
    "plt.figure(figsize=(10,5))\n",
    "\n",
    "plt.plot(N_node[1:], F, '*', color='C2', label='Monthly Futures (lab3.csv)')\n",
    "plt.plot(N, f_t,':', color='C2')\n",
    "plt.bar(N, f_t, label='Weekly forward prices', alpha=0.4,  color='C1')\n",
    "plt.xlabel(\"Week\")\n",
    "plt.ylabel(\"USD\")\n",
    "plt.title(\"Weekly Forward Curve Consistent with Monthly Futures\")\n",
    "plt.legend()\n",
    "plt.grid(True)\n",
    "plt.show()"
   ]
  },
  {
   "cell_type": "markdown",
   "metadata": {},
   "source": [
    "#### 1.2 Composite coal swap pricing (25 points)"
   ]
  },
  {
   "cell_type": "markdown",
   "metadata": {},
   "source": [
    "Using standard model of correlated Brownian motions compute par strike $K$ of a composite coal swap with the specifications provided above. "
   ]
  },
  {
   "cell_type": "code",
   "execution_count": null,
   "metadata": {},
   "outputs": [],
   "source": [
    "lag_days = -14 \n",
    "lag_years = abs(lag_days) / 365"
   ]
  },
  {
   "cell_type": "markdown",
   "metadata": {},
   "source": [
    "$$\n",
    "\\mathbb{E}^{Q^{FOR}}_t \\left[F(t_i, θ(t_i + \\tau))\\dfrac{X(t_i + l)}{X(T)}\\right] = F(t, θ(t_i + \\tau))\\dfrac{X(t, t_i + l)}{X(t, T)} ~ e^{-\\rho \\sigma_x \\sigma_F~(-l)_+}.\n",
    "$$\n",
    "\n",
    "$$\n",
    "\\mathbb{E}^{Q^{DOM}}_t [F(t_i, θ(t_i + \\tau))X(t_i + l)] = X(t, T) ~ \\mathbb{E}^{Q^{FOR}}_t \\left[F(t_i, θ(t_i + \\tau))\\dfrac{X(t_i + l)}{X(T)}\\right]\n",
    "$$\n",
    "\n",
    "Thus,\n",
    "$$\n",
    "\\mathbb{E}^{Q^{DOM}}_t [F(t_i, θ(t_i + \\tau))X(t_i + l)] =  F(t, θ(t_i + \\tau))X(t, t_i + l) ~ e^{-\\rho \\sigma_x \\sigma_F~(-l)_+}\n",
    "$$\n",
    "and \n",
    "$$\n",
    "K = \\frac{1}{12} \\sum_{i = 1}^{12} F(t, θ(t_i + \\tau))X(t, t_i + l) ~ e^{-\\rho \\sigma_x \\sigma_F~(-l)_+}\n",
    "$$"
   ]
  },
  {
   "cell_type": "code",
   "execution_count": 14,
   "metadata": {},
   "outputs": [],
   "source": [
    "quanto_adj = np.exp(-rho * sigma_S * sigma_X * lag_years)"
   ]
  },
  {
   "cell_type": "code",
   "execution_count": 15,
   "metadata": {},
   "outputs": [],
   "source": [
    "from datetime import timedelta"
   ]
  },
  {
   "cell_type": "code",
   "execution_count": null,
   "metadata": {},
   "outputs": [
    {
     "name": "stdout",
     "output_type": "stream",
     "text": [
      "Par strike K = 16334.63 RUB\n"
     ]
    }
   ],
   "source": [
    "strike_terms = []\n",
    "\n",
    "for ti in df[\"Expiry\"]:\n",
    "    t_fx = ti + timedelta(days=lag_days)\n",
    "    tau_fx = (t_fx - t0).days / 365\n",
    "    f_x = FX_spot * np.exp(rate_diff * tau_fx)\n",
    "\n",
    "    week_index = (ti - t0).days // 7\n",
    "    f_s = f_t[week_index]\n",
    "\n",
    "    strike_terms.append(f_s * f_x * quanto_adj)\n",
    "\n",
    "\n",
    "K = np.mean(strike_terms)\n",
    "print(f\"Par strike K = {K:.2f} RUB\")"
   ]
  },
  {
   "cell_type": "markdown",
   "metadata": {},
   "source": [
    "### 2. Brent vanilla option with early expiry (50 points)"
   ]
  },
  {
   "cell_type": "markdown",
   "metadata": {},
   "source": [
    "You are given a European call option on BRENT_MAY_24 oil futures with expiry date `28/07/2023` and the strike $K = 70.73$. "
   ]
  },
  {
   "cell_type": "markdown",
   "metadata": {
    "vscode": {
     "languageId": "powershell"
    }
   },
   "source": [
    "Assume that \n",
    "\n",
    "* The value date $t_0$ is `18/05/2023`;\n",
    "\n",
    "* The BRENT_MAT_24 futures contract price is $70.73$ (that is, the option is ATM);\n",
    "\n",
    "* The market implied volatility is $41.61\\%$ and the natural option maturity is `25/03/2024`; \n",
    "\n",
    "* The futures contract maturity is `28/03/2024`;\n",
    "\n",
    "* The Andersen's model parameters are $\\sigma_0 = 0.5$, $\\sigma_{\\infty} = 0.2$, $\\rho_{\\infty} = 0.75$, $\\kappa = 1$. Also assume that there is no seasonality in correlations, i.e. $f_{\\infty}(t) = \\rho_{\\infty}$."
   ]
  },
  {
   "cell_type": "markdown",
   "metadata": {},
   "source": [
    "Using the Andersen's model, find the (undiscounted) price of a Europan call described above."
   ]
  },
  {
   "cell_type": "code",
   "execution_count": 17,
   "metadata": {},
   "outputs": [],
   "source": [
    "from scipy.stats import norm\n",
    "from scipy.optimize import fsolve"
   ]
  },
  {
   "cell_type": "code",
   "execution_count": 18,
   "metadata": {},
   "outputs": [],
   "source": [
    "t0 = datetime.strptime(\"18/05/2023\", \"%d/%m/%Y\")\n",
    "T1 = datetime.strptime(\"28/07/2023\", \"%d/%m/%Y\")    # Option expiry\n",
    "T_nat = datetime.strptime(\"25/03/2024\", \"%d/%m/%Y\") # Natural expiry\n",
    "T2 = datetime.strptime(\"28/03/2024\", \"%d/%m/%Y\")    # Futures expiry"
   ]
  },
  {
   "cell_type": "code",
   "execution_count": 19,
   "metadata": {},
   "outputs": [],
   "source": [
    "sigma_0 = 0.5\n",
    "sigma_inf = 0.2\n",
    "rho_inf = 0.75\n",
    "f_inf = 0.75\n",
    "kappa = 1.0\n",
    "\n",
    "F0 = 70.73\n",
    "K = 70.73\n",
    "\n",
    "iv_nat = 0.4161  # Implied vol for natural expiry"
   ]
  },
  {
   "cell_type": "markdown",
   "metadata": {},
   "source": [
    "$h_{\\infty}, h_1, h_2$ via $\\sigma_0, \\sigma_{inf}, \\rho_{inf}$"
   ]
  },
  {
   "cell_type": "code",
   "execution_count": 20,
   "metadata": {},
   "outputs": [],
   "source": [
    "h_inf = sigma_inf\n",
    "h1 = rho_inf * sigma_0 - h_inf\n",
    "h2_squared = sigma_0**2 - (h1 + h_inf)**2\n",
    "h2 = np.sqrt(h2_squared)"
   ]
  },
  {
   "cell_type": "markdown",
   "metadata": {},
   "source": [
    "$d(\\cdot)$"
   ]
  },
  {
   "cell_type": "code",
   "execution_count": 21,
   "metadata": {},
   "outputs": [],
   "source": [
    "def f_inf_equation(d):\n",
    "    q = h1 * h_inf / (h1**2 + h2**2)\n",
    "    w = q * h_inf / h1\n",
    "\n",
    "    lhs = (q * np.exp(d) + w)\n",
    "    rhs = np.sqrt(w) * np.sqrt(np.exp(2 * d) + 2 * q * np.exp(d) + w)\n",
    "\n",
    "    return lhs / rhs - f_inf\n",
    "\n",
    "d = fsolve(f_inf_equation, 0.05)[0]"
   ]
  },
  {
   "cell_type": "markdown",
   "metadata": {},
   "source": [
    "$a(\\cdot)$ at Natural expiry "
   ]
  },
  {
   "cell_type": "code",
   "execution_count": 22,
   "metadata": {},
   "outputs": [],
   "source": [
    "def compute_a(iv, d, t, T1, T2):\n",
    "    tau_nat = (T1 - t).days / 365\n",
    "    T2_minus_T1 = (T2 - T1).days / 365\n",
    "    T2_minus_t = (T2 - t).days / 365\n",
    "\n",
    "    term1 = (h1**2 + h2**2) * np.exp(2 * d) * (np.exp(-2 * kappa * T2_minus_T1) - np.exp(-2 * kappa * T2_minus_t)) / (2* kappa * tau_nat)\n",
    "    term2 = 2 * h1 * h_inf * np.exp(d) * (np.exp(-kappa * T2_minus_T1) - np.exp(-kappa * T2_minus_t)) / (2*kappa * tau_nat)\n",
    "    total = term1 + term2 + h_inf**2\n",
    "\n",
    "    return 0.5 * np.log(iv**2 / total)\n",
    "\n",
    "a = compute_a(iv_nat, d, t0, T_nat, T2)"
   ]
  },
  {
   "cell_type": "markdown",
   "metadata": {},
   "source": [
    "$\\sigma_{term}(\\cdot)$ at futures expiry"
   ]
  },
  {
   "cell_type": "code",
   "execution_count": 23,
   "metadata": {},
   "outputs": [],
   "source": [
    "T1_minus_t = (T1 - t0).days / 365\n",
    "T2_minus_T1 = (T2 - T1).days / 365\n",
    "T2_minus_t = (T2 - t0).days / 365"
   ]
  },
  {
   "cell_type": "code",
   "execution_count": 24,
   "metadata": {},
   "outputs": [],
   "source": [
    "term1 = (h1**2 + h2**2) * np.exp(2 * d) * (np.exp(-2 * kappa * T2_minus_T1) - np.exp(-2 * kappa * T2_minus_t)) / (2 * kappa * T1_minus_t)\n",
    "term2 = 2 * h1 * h_inf * np.exp(d) * (np.exp(-kappa * T2_minus_T1) - np.exp(-kappa * T2_minus_t)) / (2 * kappa * T1_minus_t)\n",
    "term3 = h_inf**2\n",
    "\n",
    "sigma_term_squared = np.exp(2 * a) * (term1 + term2 + term3)\n",
    "sigma_term = np.sqrt(sigma_term_squared)"
   ]
  },
  {
   "cell_type": "markdown",
   "metadata": {},
   "source": [
    "Option price"
   ]
  },
  {
   "cell_type": "code",
   "execution_count": 25,
   "metadata": {},
   "outputs": [],
   "source": [
    "d1 = (np.log(F0 / K) + 0.5 * sigma_term**2 * T1_minus_t) / (sigma_term * np.sqrt(T1_minus_t))\n",
    "d2 = d1 - sigma_term * np.sqrt(T1_minus_t)\n",
    "call_price = F0 * norm.cdf(d1) - K * norm.cdf(d2)"
   ]
  },
  {
   "cell_type": "code",
   "execution_count": 26,
   "metadata": {},
   "outputs": [
    {
     "name": "stdout",
     "output_type": "stream",
     "text": [
      "Calibrated d: -0.0000\n",
      "Calibrated a: 0.1459\n",
      "Model-implied term volatility (T1 = 28.07.23): 34.0826%\n",
      "Undiscounted European call price: 4.2376\n"
     ]
    }
   ],
   "source": [
    "print(f\"Calibrated d: {d:.4f}\")\n",
    "print(f\"Calibrated a: {a:.4f}\")\n",
    "print(f\"Model-implied term volatility (T1 = 28.07.23): {sigma_term:.4%}\")\n",
    "print(f\"Undiscounted European call price: {call_price:.4f}\")"
   ]
  },
  {
   "cell_type": "code",
   "execution_count": null,
   "metadata": {},
   "outputs": [],
   "source": []
  }
 ],
 "metadata": {
  "kernelspec": {
   "display_name": "Python 3",
   "language": "python",
   "name": "python3"
  },
  "language_info": {
   "codemirror_mode": {
    "name": "ipython",
    "version": 3
   },
   "file_extension": ".py",
   "mimetype": "text/x-python",
   "name": "python",
   "nbconvert_exporter": "python",
   "pygments_lexer": "ipython3",
   "version": "3.13.0"
  }
 },
 "nbformat": 4,
 "nbformat_minor": 2
}
